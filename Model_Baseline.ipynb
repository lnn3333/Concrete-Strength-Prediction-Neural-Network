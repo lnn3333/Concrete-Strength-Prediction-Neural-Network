{
 "cells": [
  {
   "cell_type": "markdown",
   "id": "f6783e86-bfce-4a76-8b27-d0370e0f4c1f",
   "metadata": {},
   "source": [
    "A. Build a baseline model (5 marks) \n",
    "\n",
    "Use the Keras library to build a neural network with the following:\n",
    "\n",
    "- One hidden layer of 10 nodes, and a ReLU activation function\n",
    "\n",
    "- Use the adam optimizer and the mean squared error  as the loss function.\n",
    "\n",
    "1. Randomly split the data into a training and test sets by holding 30% of the data for testing. You can use the \n",
    "train_test_split\n",
    "helper function from Scikit-learn.\n",
    "\n",
    "2. Train the model on the training data using 50 epochs.\n",
    "\n",
    "3. Evaluate the model on the test data and compute the mean squared error between the predicted concrete strength and the actual concrete strength. You can use the mean_squared_error function from Scikit-learn.\n",
    "\n",
    "4. Repeat steps 1 - 3, 50 times, i.e., create a list of 50 mean squared errors.\n",
    "\n",
    "5. Report the mean and the standard deviation of the mean squared errors.\n",
    "\n"
   ]
  },
  {
   "cell_type": "markdown",
   "id": "054186bf-3c79-4328-9f35-ca34f4ace473",
   "metadata": {},
   "source": [
    "Install the required libraries"
   ]
  },
  {
   "cell_type": "code",
   "execution_count": 1,
   "id": "d5aaabc3-4e29-4295-a990-6f955f4d4e9d",
   "metadata": {
    "tags": []
   },
   "outputs": [
    {
     "name": "stdout",
     "output_type": "stream",
     "text": [
      "Collecting numpy==1.21.4\n",
      "  Downloading numpy-1.21.4-cp37-cp37m-manylinux_2_12_x86_64.manylinux2010_x86_64.whl (15.7 MB)\n",
      "\u001b[2K     \u001b[90m━━━━━━━━━━━━━━━━━━━━━━━━━━━━━━━━━━━━━━━━\u001b[0m \u001b[32m15.7/15.7 MB\u001b[0m \u001b[31m68.7 MB/s\u001b[0m eta \u001b[36m0:00:00\u001b[0m00:01\u001b[0m00:01\u001b[0m\n",
      "\u001b[?25hInstalling collected packages: numpy\n",
      "  Attempting uninstall: numpy\n",
      "    Found existing installation: numpy 1.21.6\n",
      "    Uninstalling numpy-1.21.6:\n",
      "      Successfully uninstalled numpy-1.21.6\n",
      "Successfully installed numpy-1.21.4\n",
      "Collecting pandas==1.3.4\n",
      "  Downloading pandas-1.3.4-cp37-cp37m-manylinux_2_17_x86_64.manylinux2014_x86_64.whl (11.3 MB)\n",
      "\u001b[2K     \u001b[90m━━━━━━━━━━━━━━━━━━━━━━━━━━━━━━━━━━━━━━━━\u001b[0m \u001b[32m11.3/11.3 MB\u001b[0m \u001b[31m79.7 MB/s\u001b[0m eta \u001b[36m0:00:00\u001b[0m00:01\u001b[0m00:01\u001b[0m\n",
      "\u001b[?25hRequirement already satisfied: python-dateutil>=2.7.3 in /home/jupyterlab/conda/envs/python/lib/python3.7/site-packages (from pandas==1.3.4) (2.8.2)\n",
      "Requirement already satisfied: pytz>=2017.3 in /home/jupyterlab/conda/envs/python/lib/python3.7/site-packages (from pandas==1.3.4) (2023.3)\n",
      "Requirement already satisfied: numpy>=1.17.3 in /home/jupyterlab/conda/envs/python/lib/python3.7/site-packages (from pandas==1.3.4) (1.21.4)\n",
      "Requirement already satisfied: six>=1.5 in /home/jupyterlab/conda/envs/python/lib/python3.7/site-packages (from python-dateutil>=2.7.3->pandas==1.3.4) (1.16.0)\n",
      "Installing collected packages: pandas\n",
      "  Attempting uninstall: pandas\n",
      "    Found existing installation: pandas 1.3.5\n",
      "    Uninstalling pandas-1.3.5:\n",
      "      Successfully uninstalled pandas-1.3.5\n",
      "Successfully installed pandas-1.3.4\n",
      "Requirement already satisfied: keras==2.1.6 in /home/jupyterlab/conda/envs/python/lib/python3.7/site-packages (2.1.6)\n",
      "Requirement already satisfied: numpy>=1.9.1 in /home/jupyterlab/conda/envs/python/lib/python3.7/site-packages (from keras==2.1.6) (1.21.4)\n",
      "Requirement already satisfied: scipy>=0.14 in /home/jupyterlab/conda/envs/python/lib/python3.7/site-packages (from keras==2.1.6) (1.7.3)\n",
      "Requirement already satisfied: six>=1.9.0 in /home/jupyterlab/conda/envs/python/lib/python3.7/site-packages (from keras==2.1.6) (1.16.0)\n",
      "Requirement already satisfied: pyyaml in /home/jupyterlab/conda/envs/python/lib/python3.7/site-packages (from keras==2.1.6) (6.0)\n",
      "Requirement already satisfied: h5py in /home/jupyterlab/conda/envs/python/lib/python3.7/site-packages (from keras==2.1.6) (2.8.0)\n"
     ]
    }
   ],
   "source": [
    "!pip install numpy==1.21.4\n",
    "!pip install pandas==1.3.4\n",
    "!pip install keras==2.1.6"
   ]
  },
  {
   "cell_type": "markdown",
   "id": "14f0276e-35ae-4b51-8e4a-13107372990e",
   "metadata": {},
   "source": [
    "Import the library"
   ]
  },
  {
   "cell_type": "code",
   "execution_count": null,
   "id": "214e87c2-b91b-4034-a93d-b0576e2d9324",
   "metadata": {
    "tags": []
   },
   "outputs": [],
   "source": [
    "import pandas as pd\n",
    "import numpy as np"
   ]
  },
  {
   "cell_type": "markdown",
   "id": "6e99ba7f-86f1-40b9-8138-442fc971021e",
   "metadata": {},
   "source": [
    "Download data and take a look at the data"
   ]
  },
  {
   "cell_type": "code",
   "execution_count": null,
   "id": "b630a83d-8f72-4f6c-b248-339ce72eb180",
   "metadata": {
    "tags": []
   },
   "outputs": [],
   "source": [
    "concrete_data = pd.read_csv('https://cocl.us/concrete_data')\n",
    "concrete_data.head()"
   ]
  },
  {
   "cell_type": "markdown",
   "id": "07a52a14-f386-45c1-a176-e909a43c21fa",
   "metadata": {},
   "source": [
    "Split the target and the predict"
   ]
  },
  {
   "cell_type": "code",
   "execution_count": null,
   "id": "12c0f698-a96f-44eb-ba1c-fab75e113d11",
   "metadata": {
    "tags": []
   },
   "outputs": [],
   "source": [
    "concrete_data_columns = concrete_data.columns\n",
    "\n",
    "predictors = concrete_data[concrete_data_columns[concrete_data_columns != 'Strength']] # all columns except Strength\n",
    "target = concrete_data['Strength'] # Strength column"
   ]
  },
  {
   "cell_type": "markdown",
   "id": "f338014a-0eed-4d49-8f3c-da9864e0aced",
   "metadata": {},
   "source": [
    "Save the number of predictor to n_cols"
   ]
  },
  {
   "cell_type": "code",
   "execution_count": null,
   "id": "fbda974a-2474-4ab2-93f8-23528afd10da",
   "metadata": {
    "tags": []
   },
   "outputs": [],
   "source": [
    "n_cols = predictors.shape[1] # number of predictors"
   ]
  },
  {
   "cell_type": "markdown",
   "id": "e73db3f5-2668-4d8b-9977-3593fcbbb602",
   "metadata": {},
   "source": [
    "Import Keras and other packages"
   ]
  },
  {
   "cell_type": "code",
   "execution_count": null,
   "id": "7534fabe-1842-446e-ae54-e1c17cbe33c6",
   "metadata": {
    "tags": []
   },
   "outputs": [],
   "source": [
    "import keras\n",
    "from keras.models import Sequential\n",
    "from keras.layers import Dense"
   ]
  },
  {
   "cell_type": "markdown",
   "id": "8ca79c10-b4a7-40dd-8587-c5b2646bb4b9",
   "metadata": {},
   "source": [
    "A. BUILD THE REGRESSION MODEL\n",
    "Use the Keras library to build a neural network with the following:\n",
    "\n",
    "- One hidden layer of 10 nodes, and a ReLU activation function\n",
    "\n",
    "- Use the adam optimizer and the mean squared error  as the loss function."
   ]
  },
  {
   "cell_type": "code",
   "execution_count": null,
   "id": "3d26fced-16f2-45bb-aead-22d0e92cdbc0",
   "metadata": {
    "tags": []
   },
   "outputs": [],
   "source": [
    "# define regression model\n",
    "def regression_model():\n",
    "    # create model\n",
    "    model = Sequential()\n",
    "    model.add(Dense(10, activation='relu', input_shape=(n_cols,)))\n",
    "    model.add(Dense(1))\n",
    "    \n",
    "    # compile model\n",
    "    model.compile(optimizer='adam', loss='mean_squared_error')\n",
    "    return model"
   ]
  },
  {
   "cell_type": "markdown",
   "id": "7bfedb2e-f54c-4dbd-a401-4f9700ab7faa",
   "metadata": {},
   "source": [
    "Import the library from sklearn"
   ]
  },
  {
   "cell_type": "code",
   "execution_count": null,
   "id": "51aaedf4-592b-4abe-a46e-ce2c4808b4c0",
   "metadata": {
    "tags": []
   },
   "outputs": [],
   "source": [
    "from sklearn.metrics import mean_squared_error\n",
    "from sklearn.model_selection import train_test_split"
   ]
  },
  {
   "cell_type": "markdown",
   "id": "89158105-7d10-421f-bf91-38db27fffb34",
   "metadata": {},
   "source": [
    "4. Repeat steps 1 - 3, 50 times, i.e., create a list of 50 mean squared errors.\n",
    "\n",
    "5. Report the mean and the standard deviation of the mean squared errors."
   ]
  },
  {
   "cell_type": "markdown",
   "id": "585a70eb-243b-436a-b51a-e567b3cb8767",
   "metadata": {},
   "source": [
    "Create an array to store 50 mean squared error"
   ]
  },
  {
   "cell_type": "code",
   "execution_count": null,
   "id": "b1070636-6a3f-4c5a-9e7b-a3253374280e",
   "metadata": {
    "tags": []
   },
   "outputs": [],
   "source": [
    "array_MSE_A=[]"
   ]
  },
  {
   "cell_type": "code",
   "execution_count": null,
   "id": "3d1155d9-21df-4347-bc1e-de640e7c7eb1",
   "metadata": {
    "tags": []
   },
   "outputs": [],
   "source": [
    "# Repeat the process 50 times\n",
    "for _ in range(50):\n",
    "    # Split the data\n",
    "    X_train, X_test, y_train, y_test = train_test_split(predictors, target, test_size=0.3, random_state=None)\n",
    "    \n",
    "    # Build the model\n",
    "    model = regression_model()\n",
    "    \n",
    "    # Fit the model\n",
    "    model.fit(X_train, y_train, epochs=50, verbose=0)\n",
    "    \n",
    "    # Make predictions\n",
    "    predictions = model.predict(X_test)\n",
    "    \n",
    "    # Calculate MSE\n",
    "    mse = mean_squared_error(y_test, predictions)\n",
    "    print('Mean Squared Error on test data:', mse)\n",
    "    \n",
    "    # Append the MSE to the list\n",
    "    array_MSE_A.append(mse)"
   ]
  },
  {
   "cell_type": "code",
   "execution_count": 31,
   "id": "1ab3126f-6b58-4477-9d53-4b9e9416d79b",
   "metadata": {
    "tags": []
   },
   "outputs": [
    {
     "name": "stdout",
     "output_type": "stream",
     "text": [
      "[386.87418496132995, 409.6433239851521, 349.6476220738613, 239.48032763533297, 255.53374239636477, 457.1975270949807, 360.92665020486606, 496.473596555755, 242.64615263768803, 353.5208693112366, 293.10123000863484, 401.75791941628626, 217.23326634105072, 454.85096052032276, 457.12635919137955, 286.4672568553636, 329.64366018349716, 458.03524163128895, 253.02997541246435, 324.19655968286963, 495.80256300739484, 242.54328970274554, 350.33011592379853, 352.98266832468596, 290.3109516828884, 324.4006355418451, 555.7542231983906, 347.9088982689103, 375.9605492969294, 284.12366941734507, 308.91151231289336, 296.42671679322217, 273.66210802761907, 369.89828223357665, 342.9731524245773, 292.1595266966016, 295.0521246569215, 263.42127923955235, 571.9256859575042, 314.68569082157427, 286.7242833687347, 322.87139776432485, 497.67913925557485, 363.4231959104436, 356.0987525884771, 454.47989031998236, 287.65663288958376, 329.38874455752455, 269.2393808925365]\n"
     ]
    }
   ],
   "source": [
    "print(array_MSE)"
   ]
  },
  {
   "cell_type": "code",
   "execution_count": null,
   "id": "c771e4f2-0914-4ba4-9a14-b9328994c2c8",
   "metadata": {},
   "outputs": [],
   "source": []
  }
 ],
 "metadata": {
  "kernelspec": {
   "display_name": "Python",
   "language": "python",
   "name": "conda-env-python-py"
  },
  "language_info": {
   "codemirror_mode": {
    "name": "ipython",
    "version": 3
   },
   "file_extension": ".py",
   "mimetype": "text/x-python",
   "name": "python",
   "nbconvert_exporter": "python",
   "pygments_lexer": "ipython3",
   "version": "3.7.12"
  }
 },
 "nbformat": 4,
 "nbformat_minor": 5
}
